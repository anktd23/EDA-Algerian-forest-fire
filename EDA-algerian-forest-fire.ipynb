{
 "cells": [
  {
   "cell_type": "markdown",
   "metadata": {
    "id": "t9CkJtSLwi3A"
   },
   "source": [
    "### Algerian Forest Fire"
   ]
  },
  {
   "cell_type": "markdown",
   "metadata": {
    "id": "kGFrb7S_tS_i"
   },
   "source": [
    "### Problem Statement \n",
    "\n",
    "To find whether there will fire or not. "
   ]
  },
  {
   "cell_type": "markdown",
   "metadata": {},
   "source": [
    "#### Data Set Information:"
   ]
  },
  {
   "cell_type": "markdown",
   "metadata": {
    "id": "tEkAOXceqUCd"
   },
   "source": [
    "-> The dataset includes 244 instances that regroup a data of two regions of Algeria,namely the Bejaia region located in the      northeast of Algeria and the Sidi Bel-abbes region located in the northwest of Algeria.\n",
    "-> 122 instances for each region.\n",
    "-> The period from June 2012 to September 2012.\n",
    "-> The dataset includes 11 attribues and 1 output attribue (class)\n",
    "-> The 244 instances have been classified into â€˜fireâ€™ (138 classes) and â€˜not fireâ€™ (106 classes) classes."
   ]
  },
  {
   "cell_type": "markdown",
   "metadata": {},
   "source": [
    "#### Attribute Information:"
   ]
  },
  {
   "cell_type": "code",
   "execution_count": 1,
   "metadata": {},
   "outputs": [
    {
     "ename": "SyntaxError",
     "evalue": "invalid syntax (2218848459.py, line 1)",
     "output_type": "error",
     "traceback": [
      "\u001b[1;36m  Input \u001b[1;32mIn [1]\u001b[1;36m\u001b[0m\n\u001b[1;33m    1. Date : (DD/MM/YYYY) Day, month ('june' to 'september'), year (2012)\u001b[0m\n\u001b[1;37m       ^\u001b[0m\n\u001b[1;31mSyntaxError\u001b[0m\u001b[1;31m:\u001b[0m invalid syntax\n"
     ]
    }
   ],
   "source": [
    "1. Date : (DD/MM/YYYY) Day, month ('june' to 'september'), year (2012)\n",
    "Weather data observations\n",
    "2. Temp : temperature noon (temperature max) in Celsius degrees: 22 to 42\n",
    "3. RH : Relative Humidity in %: 21 to 90\n",
    "4. Ws :Wind speed in km/h: 6 to 29\n",
    "5. Rain: total day in mm: 0 to 16.8\n",
    "FWI Components\n",
    "6. Fine Fuel Moisture Code (FFMC) index from the FWI system: 28.6 to 92.5\n",
    "7. Duff Moisture Code (DMC) index from the FWI system: 1.1 to 65.9\n",
    "8. Drought Code (DC) index from the FWI system: 7 to 220.4\n",
    "9. Initial Spread Index (ISI) index from the FWI system: 0 to 18.5\n",
    "10. Buildup Index (BUI) index from the FWI system: 1.1 to 68\n",
    "11. Fire Weather Index (FWI) Index: 0 to 31.1\n",
    "12. Classes: two classes, namely â€œFireâ€ and â€œnot Fireâ€"
   ]
  },
  {
   "cell_type": "code",
   "execution_count": null,
   "metadata": {
    "id": "XAAw0nWLwlK7"
   },
   "outputs": [],
   "source": [
    "#import library\n",
    "import pandas as pd\n",
    "import numpy as np\n",
    "import matplotlib.pyplot as plt\n",
    "import seaborn as sns\n",
    "import warnings\n",
    "plt.style.use('ggplot')\n",
    "warnings.filterwarnings(\"ignore\")\n",
    "%matplotlib inline"
   ]
  },
  {
   "cell_type": "code",
   "execution_count": null,
   "metadata": {
    "id": "X7k6R5qQw4a8"
   },
   "outputs": [],
   "source": [
    "#import dataset\n",
    "df = pd.read_csv('Algerian_forest_fires_dataset_UPDATE.csv',header = 1)"
   ]
  },
  {
   "cell_type": "code",
   "execution_count": 2,
   "metadata": {},
   "outputs": [
    {
     "ename": "NameError",
     "evalue": "name 'df' is not defined",
     "output_type": "error",
     "traceback": [
      "\u001b[1;31m---------------------------------------------------------------------------\u001b[0m",
      "\u001b[1;31mNameError\u001b[0m                                 Traceback (most recent call last)",
      "Input \u001b[1;32mIn [2]\u001b[0m, in \u001b[0;36m<cell line: 1>\u001b[1;34m()\u001b[0m\n\u001b[1;32m----> 1\u001b[0m \u001b[43mdf\u001b[49m\u001b[38;5;241m.\u001b[39mhead()\n",
      "\u001b[1;31mNameError\u001b[0m: name 'df' is not defined"
     ]
    }
   ],
   "source": [
    "df.head()"
   ]
  },
  {
   "cell_type": "code",
   "execution_count": null,
   "metadata": {
    "id": "K_nodXNy_w9u"
   },
   "outputs": [],
   "source": [
    "#Observations: \n",
    "#1. From index 0 to 122 we had Bejai region.  \n",
    "#2. From index 123 to 124 we had blanks and header rows.\n",
    "#3. From index 125 onwards we had SidiBel region. "
   ]
  },
  {
   "cell_type": "code",
   "execution_count": null,
   "metadata": {
    "id": "JPMcqd6JxNpx"
   },
   "outputs": [],
   "source": [
    "#Creating the clean dataset.Drop the irrelevant rows.\n",
    "df.drop(index = [122,123,124],inplace = True)\n",
    "\n",
    "# Creating new index\n",
    "df.reset_index(drop = True, inplace = True) \n",
    "df['region'] = 0\n",
    "\n",
    "# separating the dataset based on the location \n",
    "for i in range(len(df)):    \n",
    "    if i < 123:\n",
    "        df['region'][i] =  1\n",
    "    else:\n",
    "        df['region'][i] = 0"
   ]
  },
  {
   "cell_type": "code",
   "execution_count": null,
   "metadata": {},
   "outputs": [],
   "source": [
    "df.columns"
   ]
  },
  {
   "cell_type": "code",
   "execution_count": null,
   "metadata": {},
   "outputs": [],
   "source": [
    "#Observations:\n",
    "#Column names has extra spaces at the end \n",
    "#Removing extra spaces from column names."
   ]
  },
  {
   "cell_type": "code",
   "execution_count": null,
   "metadata": {
    "id": "nObb3NYnVk4a"
   },
   "outputs": [],
   "source": [
    "for col in df.columns:\n",
    "    df.rename(columns = {col: col.strip()}, inplace = True)"
   ]
  },
  {
   "cell_type": "code",
   "execution_count": null,
   "metadata": {},
   "outputs": [],
   "source": [
    "df.columns"
   ]
  },
  {
   "cell_type": "code",
   "execution_count": null,
   "metadata": {
    "colab": {
     "base_uri": "https://localhost:8080/",
     "height": 0
    },
    "id": "whJ_qnWcPoJ7",
    "outputId": "7332ea0e-51b3-4c8b-c301-0249dfb59027"
   },
   "outputs": [],
   "source": [
    "data.iloc[164,:]"
   ]
  },
  {
   "cell_type": "markdown",
   "metadata": {
    "id": "PPshlTfER6aK"
   },
   "source": [
    "Observation:\n",
    "1. Data at index 164 has \n",
    "\n",
    "column | Value\n",
    "------|---------\n",
    "DC |  14.6 9\n",
    "ISI | 12.5\n",
    "BUI | 10.4\n",
    "FWI | fire\n",
    "Class | nan\n",
    "\n",
    "This means entry has been shifted to left thus creating the problem.\n",
    "\n",
    "2. The data need to be corrected as \n",
    "\n",
    "column | Value\n",
    "------|---------\n",
    "DC |  14.6 \n",
    "ISI | 9 \n",
    "BUI | 12.5\n",
    "FWI | 10.4\n",
    "Class | fire\n"
   ]
  },
  {
   "cell_type": "code",
   "execution_count": null,
   "metadata": {
    "id": "wrtZkDUITgUg"
   },
   "outputs": [],
   "source": [
    "# correcting row data\n",
    "df.at[164, 'DC'] = 14.6\n",
    "df.at[164, 'ISI'] = 9\n",
    "df.at[164, 'BUI'] = 12.5\n",
    "df.at[164,'FWI'] = 10.4\n",
    "df.at[164,'Classes'] = 'fire'"
   ]
  },
  {
   "cell_type": "code",
   "execution_count": null,
   "metadata": {
    "colab": {
     "base_uri": "https://localhost:8080/",
     "height": 225
    },
    "id": "6LyGvF3ml4OL",
    "outputId": "c8b65f3c-e90c-43da-e3c6-100e984180b3"
   },
   "outputs": [],
   "source": [
    "df.head()"
   ]
  },
  {
   "cell_type": "code",
   "execution_count": null,
   "metadata": {
    "id": "gs5drIPZl9wh"
   },
   "outputs": [],
   "source": [
    "#Year column has ony one type of entry and hence not suitable for any analysis\n",
    "#Day column has no impact on the fire. "
   ]
  },
  {
   "cell_type": "code",
   "execution_count": null,
   "metadata": {
    "id": "mhDAVfmimHtI"
   },
   "outputs": [],
   "source": [
    "#Dropping the year & day column\n",
    "df.drop(columns = ['year', 'day'], inplace = True)"
   ]
  },
  {
   "cell_type": "code",
   "execution_count": null,
   "metadata": {
    "colab": {
     "base_uri": "https://localhost:8080/",
     "height": 0
    },
    "id": "GMJUPKhNWvxv",
    "outputId": "7efb058c-7929-47e7-f9ac-d97cab25db80"
   },
   "outputs": [],
   "source": [
    "df['Classes'].unique()"
   ]
  },
  {
   "cell_type": "code",
   "execution_count": null,
   "metadata": {
    "id": "lzabcjBWkrUA"
   },
   "outputs": [],
   "source": [
    "#Column 'classes' names have extra spaces in entries."
   ]
  },
  {
   "cell_type": "code",
   "execution_count": null,
   "metadata": {
    "id": "7cRh8yLEkqh-"
   },
   "outputs": [],
   "source": [
    "#Removing the extra spaces from the entries in column Classes\n",
    "df['Classes'] = [i.strip() for i in df['Classes']]"
   ]
  },
  {
   "cell_type": "code",
   "execution_count": null,
   "metadata": {
    "id": "TFjXLQK3O1tF"
   },
   "outputs": [],
   "source": [
    "#Checking the data types of each columns"
   ]
  },
  {
   "cell_type": "code",
   "execution_count": null,
   "metadata": {
    "colab": {
     "base_uri": "https://localhost:8080/",
     "height": 0
    },
    "id": "47ubH-TMO8cK",
    "outputId": "0eb44726-d0b4-4b0d-8e5a-628cc4b58577"
   },
   "outputs": [],
   "source": [
    "df.dtypes"
   ]
  },
  {
   "cell_type": "code",
   "execution_count": null,
   "metadata": {
    "id": "uKrwsE1dPAoZ"
   },
   "outputs": [],
   "source": [
    "#Columns 'day, 'Temperature', ' RH', ' Ws', 'Rain ','FFMC', 'DMC', 'DC', 'ISI', 'BUI', 'FWI' are having categorical data and they need to be numerical. \n",
    "#Columns 'region' need to be categorical. "
   ]
  },
  {
   "cell_type": "code",
   "execution_count": null,
   "metadata": {
    "id": "jreUFDqIR4uR"
   },
   "outputs": [],
   "source": [
    "#Converting the data types of columns\n",
    "cols = ['month', 'Temperature', 'RH', 'Ws', 'Rain','FFMC', 'DMC', 'DC', 'ISI', 'BUI', 'FWI']\n",
    "df[cols] = df[cols].apply(pd.to_numeric)\n",
    "df['region'] = df['region'].apply(str)"
   ]
  },
  {
   "cell_type": "code",
   "execution_count": null,
   "metadata": {
    "colab": {
     "base_uri": "https://localhost:8080/",
     "height": 0
    },
    "id": "t6jcyhygoURM",
    "outputId": "e55d72cf-5464-4fa0-bc53-bb62feb836aa"
   },
   "outputs": [],
   "source": [
    "df.shape"
   ]
  },
  {
   "cell_type": "code",
   "execution_count": null,
   "metadata": {
    "colab": {
     "base_uri": "https://localhost:8080/",
     "height": 329
    },
    "id": "9c84JwVloaF9",
    "outputId": "5f864df8-d81b-4122-93df-5ab4833fed44"
   },
   "outputs": [],
   "source": [
    "df.describe()"
   ]
  },
  {
   "cell_type": "code",
   "execution_count": null,
   "metadata": {
    "colab": {
     "base_uri": "https://localhost:8080/",
     "height": 0
    },
    "id": "zSKsSp6RovdC",
    "outputId": "4abd51bf-735f-401e-b217-69c07c40c70c"
   },
   "outputs": [],
   "source": [
    "df.isna().sum()"
   ]
  },
  {
   "cell_type": "code",
   "execution_count": null,
   "metadata": {
    "colab": {
     "base_uri": "https://localhost:8080/",
     "height": 0
    },
    "id": "kdggPnd1AtHP",
    "outputId": "034be49f-6cc1-41fd-fc6c-1a79525e366e"
   },
   "outputs": [],
   "source": [
    "# dividing the data into categorical and numerical column\n",
    "numerical_features = [col for col in df.columns if df[col].dtypes != 'O']\n",
    "categorical_features = [col for col in df.columns if df[col].dtypes == 'O']\n",
    "\n",
    "# print columns\n",
    "print('We have {} numerical features : {}'.format(len(numerical_features), numerical_features))\n",
    "print('\\nWe have {} categorical features : {}'.format(len(categorical_features), categorical_features))"
   ]
  },
  {
   "cell_type": "code",
   "execution_count": null,
   "metadata": {
    "colab": {
     "base_uri": "https://localhost:8080/",
     "height": 0
    },
    "id": "KB5RyfwKCvWV",
    "outputId": "0d535c99-757e-4ea2-f375-ba19d5b93571"
   },
   "outputs": [],
   "source": [
    "df.isna().sum()"
   ]
  },
  {
   "cell_type": "code",
   "execution_count": null,
   "metadata": {
    "id": "14sh8ObdCizA"
   },
   "outputs": [],
   "source": [
    "#checking for balanced dataset"
   ]
  },
  {
   "cell_type": "code",
   "execution_count": null,
   "metadata": {
    "colab": {
     "base_uri": "https://localhost:8080/",
     "height": 0
    },
    "id": "b-JerN73M3AF",
    "outputId": "65115b86-6ae9-4e98-c7c6-7ad6a2766769"
   },
   "outputs": [],
   "source": [
    "for col in categorical_features:\n",
    "    print(df[col].value_counts(normalize=True) * 100)\n",
    "    print('--------'*10)"
   ]
  },
  {
   "cell_type": "code",
   "execution_count": null,
   "metadata": {
    "id": "nPl7usvUrvHF"
   },
   "outputs": [],
   "source": [
    "#Data set is balanced ie equally divided into its categories"
   ]
  },
  {
   "cell_type": "code",
   "execution_count": null,
   "metadata": {
    "id": "jVDoBFwgsGRZ"
   },
   "outputs": [],
   "source": [
    "#Univariate analysis "
   ]
  },
  {
   "cell_type": "code",
   "execution_count": null,
   "metadata": {
    "colab": {
     "base_uri": "https://localhost:8080/",
     "height": 565
    },
    "id": "vE2tkac8to0A",
    "outputId": "3c9b2a48-4650-46be-9515-248dd78fbfaa"
   },
   "outputs": [],
   "source": [
    "# categorical columns\n",
    "plt.figure(figsize=(10,10))\n",
    "plt.suptitle('Univariate Analysis of Categorical Features', fontsize=15, fontweight='bold', alpha=1)\n",
    "categorical_features = [col for col in df.columns if df[col].dtypes == 'O']\n",
    "\n",
    "for i in range(0, len(categorical_features)):\n",
    "    plt.subplot(2, 2, i+1)\n",
    "    sns.countplot(x=df[categorical_features[i]])\n",
    "    plt.xlabel(categorical_features[i])"
   ]
  },
  {
   "cell_type": "code",
   "execution_count": null,
   "metadata": {
    "id": "vCGe0U23ujtv"
   },
   "outputs": [],
   "source": [
    "#Category wise dataset is balanced"
   ]
  },
  {
   "cell_type": "code",
   "execution_count": null,
   "metadata": {
    "id": "engZOh68uunh"
   },
   "outputs": [],
   "source": [
    "#Numerical Columns"
   ]
  },
  {
   "cell_type": "code",
   "execution_count": null,
   "metadata": {
    "colab": {
     "base_uri": "https://localhost:8080/",
     "height": 913
    },
    "id": "VEX2ffSWux5r",
    "outputId": "12995b3d-c2ab-4620-c31d-460b377aac03"
   },
   "outputs": [],
   "source": [
    "plt.figure(figsize=(10, 10))\n",
    "plt.suptitle('Univariate Analysis of Numerical Features', fontsize=15, fontweight='bold', alpha=1.)\n",
    "\n",
    "for i in range(0, len(numerical_features)):\n",
    "    plt.subplot(5, 3, i+1)\n",
    "    sns.kdeplot(x=df[numerical_features[i]],shade=True, color='b')\n",
    "    plt.xlabel(numerical_features[i])\n",
    "    plt.tight_layout()"
   ]
  },
  {
   "cell_type": "code",
   "execution_count": null,
   "metadata": {
    "id": "Wh3zNVmovh7Q"
   },
   "outputs": [],
   "source": [
    "#1.'Temperature','RH','Ws' columns are normally distributed. \n",
    "#2.Rain column has outliers\n",
    "#3.'FFMC' column is left skewed\n",
    "#4.'DMC',  'DC',  'ISI',  'BUI',  'FWI' columns are right skewed"
   ]
  },
  {
   "cell_type": "code",
   "execution_count": null,
   "metadata": {
    "id": "yG7Z74E9w6TQ"
   },
   "outputs": [],
   "source": [
    "#Multivariate analysis"
   ]
  },
  {
   "cell_type": "code",
   "execution_count": null,
   "metadata": {
    "id": "H8xgFcntx7lw"
   },
   "outputs": [],
   "source": [
    "#Checking for multicolinearity"
   ]
  },
  {
   "cell_type": "code",
   "execution_count": null,
   "metadata": {
    "colab": {
     "base_uri": "https://localhost:8080/",
     "height": 592
    },
    "id": "oFoXGobGz1K4",
    "outputId": "3ea9b033-b102-4a38-8a1d-89eb74033f09"
   },
   "outputs": [],
   "source": [
    "# In numerical column\n",
    "plt.figure(figsize = (15,10))\n",
    "#matrix = np.triu(df.corr())\n",
    "sns.heatmap(df.corr(), annot=True)\n",
    "plt.yticks(rotation=45)\n",
    "plt.show()"
   ]
  },
  {
   "cell_type": "code",
   "execution_count": null,
   "metadata": {
    "id": "xvBgDdb1fi7G"
   },
   "outputs": [],
   "source": [
    "#1. DC and DMC columns are highly correlated\n",
    "#2. BUI Column has very high correlation with DMC and DC columns\n",
    "#3. FWI is very highly correlated with ISI column\n",
    "#4. FWI is highly correlated with BUI column "
   ]
  },
  {
   "cell_type": "code",
   "execution_count": null,
   "metadata": {
    "id": "krUk5veODK8_"
   },
   "outputs": [],
   "source": [
    "#Relation between feature and label column "
   ]
  },
  {
   "cell_type": "code",
   "execution_count": null,
   "metadata": {
    "colab": {
     "base_uri": "https://localhost:8080/",
     "height": 0
    },
    "id": "p44adO1wEElU",
    "outputId": "79706f67-575b-4ac9-9a9f-850ac771d77f"
   },
   "outputs": [],
   "source": [
    "feature = df.drop(columns = 'Classes')\n",
    "feature.columns"
   ]
  },
  {
   "cell_type": "code",
   "execution_count": null,
   "metadata": {
    "id": "PT4xnPsGD8jV"
   },
   "outputs": [],
   "source": [
    "#Here we will make an approach to understand the relation between the various columns with the column 'Classes'."
   ]
  },
  {
   "cell_type": "code",
   "execution_count": null,
   "metadata": {
    "id": "jIzIMOMXEzW4"
   },
   "outputs": [],
   "source": [
    "feature_continuous = [col for col in feature.columns if df[col].dtypes != 'O']\n",
    "feature_numeric = [col for col in feature.columns if df[col].dtypes == 'O']"
   ]
  },
  {
   "cell_type": "code",
   "execution_count": null,
   "metadata": {
    "colab": {
     "base_uri": "https://localhost:8080/",
     "height": 1000
    },
    "id": "qLsHvhdpG2vd",
    "outputId": "63bc4ee0-004f-4522-c6ca-466b66698dec"
   },
   "outputs": [],
   "source": [
    "fig = plt.figure(figsize=(15, 50))\n",
    "plt.suptitle('Box Plot between feature and continuous label ', fontsize = 20, y = 1)\n",
    "\n",
    "for i in range(0, len(feature_continuous)):\n",
    "    ax = plt.subplot(10, 3, i+1)\n",
    "    sns.boxplot(data = df, x = 'Classes', y = df[feature_continuous[i]])\n",
    "    plt.tight_layout()"
   ]
  },
  {
   "cell_type": "code",
   "execution_count": null,
   "metadata": {
    "colab": {
     "base_uri": "https://localhost:8080/",
     "height": 299
    },
    "id": "O9EIwgIpVy6C",
    "outputId": "7fa174f1-e5f8-49b5-98eb-3a965b0d3c1c"
   },
   "outputs": [],
   "source": [
    "# Checking for month column for impact on fire \n",
    "plt.title('Bar graph showing the incident of fire in various month')\n",
    "sns.countplot(data= df, hue = 'Classes', x= 'month', palette = \"muted\");"
   ]
  },
  {
   "cell_type": "code",
   "execution_count": null,
   "metadata": {
    "colab": {
     "base_uri": "https://localhost:8080/",
     "height": 299
    },
    "id": "Gf86PHrgY4nt",
    "outputId": "b3aab5f7-0c9b-477b-d0a2-1b1813208483"
   },
   "outputs": [],
   "source": [
    "# Checking for region column for impact on fire \n",
    "plt.title('Bar graph showing the incident of fire in various region')\n",
    "sns.countplot(data= df, hue = 'Classes', x= 'region', palette = \"muted\");"
   ]
  },
  {
   "cell_type": "markdown",
   "metadata": {},
   "source": [
    "Preliminary Conclusions:\n",
    "\n",
    "1.If the temperature increases there is increase in the chance of fire.\n",
    "2.If the humidity increases there is slight decrease in the chance of fire.\n",
    "3.Wind speed has no impact on fire\n",
    "4.If rain is increased then chance of fire is significantly decreased\n",
    "5.If FFMC > 80 chance of fire is very high\n",
    "6.If DMC > 10 chance of fire is very high\n",
    "7.If DC > 50 chance of fire is very high\n",
    "8.If ISI > 5 chance of fire is very high\n",
    "10.9.If BUI > 15 chance of fire is very high\n",
    "11.If FWI > 5 chance of fire is very high\n",
    "12.Chances of fire in month of june and august is high"
   ]
  }
 ],
 "metadata": {
  "colab": {
   "authorship_tag": "ABX9TyMyL9MTBDqNVpw6OxqgjB9T",
   "collapsed_sections": [
    "kGFrb7S_tS_i",
    "n3FRs4igw1Xt",
    "HxLrPmItm6Le",
    "jVDoBFwgsGRZ",
    "zAmbD_U4sOkU",
    "engZOh68uunh",
    "yG7Z74E9w6TQ"
   ],
   "include_colab_link": true,
   "mount_file_id": "1as8E7Vwq7c0R-rSxbxxrJ9KnEdgxMfHu",
   "provenance": []
  },
  "kernelspec": {
   "display_name": "Python 3 (ipykernel)",
   "language": "python",
   "name": "python3"
  },
  "language_info": {
   "codemirror_mode": {
    "name": "ipython",
    "version": 3
   },
   "file_extension": ".py",
   "mimetype": "text/x-python",
   "name": "python",
   "nbconvert_exporter": "python",
   "pygments_lexer": "ipython3",
   "version": "3.9.12"
  }
 },
 "nbformat": 4,
 "nbformat_minor": 1
}
